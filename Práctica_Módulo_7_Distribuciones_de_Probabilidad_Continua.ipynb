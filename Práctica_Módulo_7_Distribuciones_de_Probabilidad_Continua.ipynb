{
  "nbformat": 4,
  "nbformat_minor": 0,
  "metadata": {
    "colab": {
      "provenance": [],
      "authorship_tag": "ABX9TyM0TtaK3/5WKIM72foROdAr",
      "include_colab_link": true
    },
    "kernelspec": {
      "name": "python3",
      "display_name": "Python 3"
    },
    "language_info": {
      "name": "python"
    }
  },
  "cells": [
    {
      "cell_type": "markdown",
      "metadata": {
        "id": "view-in-github",
        "colab_type": "text"
      },
      "source": [
        "<a href=\"https://colab.research.google.com/github/elmilanos/ProbabilityStatistics/blob/main/Pr%C3%A1ctica_M%C3%B3dulo_7_Distribuciones_de_Probabilidad_Continua.ipynb\" target=\"_parent\"><img src=\"https://colab.research.google.com/assets/colab-badge.svg\" alt=\"Open In Colab\"/></a>"
      ]
    },
    {
      "cell_type": "markdown",
      "source": [
        "## Análisis de Datos del Mundo Real con Distribuciones de Probabilidad\n",
        "En este trabajo, exploraremos datos reales de Durango y analizaremos su ajuste a tres distribuciones estadísticas fundamentales:\n",
        "\n",
        "1. **Distribución Normal:** Modela variables continuas con una tendencia central clara.\n",
        "\n",
        "2. **Distribución Exponencial:** Modela el tiempo entre eventos aleatorios.\n",
        "\n",
        "3. **Distribución Chi-Cuadrada:** Evalúa la relación entre variables categóricas.\n",
        "\n",
        "Los datos utilizados provienen de fuentes como el INEGI, y el análisis se realizará en Python utilizando bibliotecas como *numpy*, *pandas*, *matplotlib*, *seaborn* y *scipy.stats*."
      ],
      "metadata": {
        "id": "MBd220Jg2XNe"
      }
    },
    {
      "cell_type": "markdown",
      "source": [
        "# Ejercicio 1: Distribución Normal\n",
        "La distribución normal es una de las distribuciones más comunes en la estadística, utilizada para modelar variables continuas como **la temperatura, el ingreso per cápita o la estatura de la población.**\n",
        "Esta distribución tiene forma de campana y se describe por dos parámetros:\n",
        "\n",
        "- **Media (μ):** Representa el valor promedio.\n",
        "\n",
        "- **Desviación estándar (σ):** Indica qué tan dispersos están los datos alrededor de la media.\n",
        "\n",
        "## Aplicación en Durango:\n",
        "\n",
        "- Si la temperatura sigue una normal, podemos predecir eventos climáticos con más certeza."
      ],
      "metadata": {
        "id": "EyRmXMdg277x"
      }
    },
    {
      "cell_type": "code",
      "execution_count": null,
      "metadata": {
        "id": "_5561XSCz3BA"
      },
      "outputs": [],
      "source": [
        "import numpy as np\n",
        "import pandas as pd\n",
        "import matplotlib.pyplot as plt\n",
        "import scipy.stats as stats\n",
        "import seaborn as sns\n",
        "\n",
        "# Cargar datos (Este paso dependerá del dataset que descargues del INEGI)\n",
        "# Supongamos que tenemos un CSV con datos de Durango\n",
        "df = pd.read_csv(\"datos_durango.csv\")  # Ajusta el nombre del archivo según el dataset real\n",
        "\n",
        "# --- EJERCICIO 1: DISTRIBUCIÓN NORMAL ---\n",
        "# Seleccionamos una variable continua (Ejemplo: temperatura promedio mensual)\n",
        "variable_normal = df[\"temperatura_promedio\"]\n",
        "\n",
        "# Calcular media y desviación estándar\n",
        "media = np.mean(variable_normal)\n",
        "desviacion = np.std(variable_normal)\n",
        "\n",
        "# Generar histograma y superponer curva normal\n",
        "plt.figure(figsize=(10, 5))\n",
        "sns.histplot(variable_normal, kde=False, bins=20, color=\"skyblue\", stat=\"density\", label=\"Datos reales\")\n",
        "x = np.linspace(min(variable_normal), max(variable_normal), 100)\n",
        "plt.plot(x, stats.norm.pdf(x, media, desviacion), \"r-\", label=\"Ajuste Normal\")\n",
        "plt.xlabel(\"Temperatura Promedio (°C)\")\n",
        "plt.ylabel(\"Densidad\")\n",
        "plt.title(\"Ajuste de Distribución Normal\")\n",
        "plt.legend()\n",
        "plt.grid()\n",
        "plt.show()\n",
        "\n",
        "# Prueba de bondad de ajuste (Kolmogorov-Smirnov)\n",
        "ks_stat, p_value = stats.kstest(variable_normal, \"norm\", args=(media, desviacion))\n",
        "print(f\"Prueba KS: Estadístico = {ks_stat}, p-valor = {p_value}\")\n",
        "\n",
        "# Interpretación del p-valor\n",
        "if p_value > 0.05:\n",
        "    print(\"Los datos se ajustan bien a una distribución normal (No se rechaza H0).\")\n",
        "else:\n",
        "    print(\"Los datos NO siguen una distribución normal (Se rechaza H0).\")"
      ]
    },
    {
      "cell_type": "markdown",
      "source": [
        "# Ejercicio 2: Distribución Exponencial\n",
        "La distribución exponencial modela eventos que ocurren de manera aleatoria en el tiempo, como:\n",
        "- El tiempo entre lluvias significativas.\n",
        "- El tiempo entre accidentes de tránsito en una intersección.\n",
        "- El tiempo entre llegadas de clientes a un negocio.\n",
        "\n",
        "La distribución exponencial depende de un solo parámetro:\n",
        "- **λ (lambda):** La tasa de ocurrencia de eventos por unidad de tiempo.\n",
        "\n",
        "## Aplicación en Durango:\n",
        "\n",
        "- Puede ayudar a **predecir lluvias** y planificar medidas de prevención de inundaciones."
      ],
      "metadata": {
        "id": "F5MZ_4pY3pVW"
      }
    },
    {
      "cell_type": "code",
      "source": [
        "# --- EJERCICIO 2: DISTRIBUCIÓN EXPONENCIAL ---\n",
        "# Seleccionamos una variable relacionada con tiempos entre eventos (Ejemplo: tiempo entre lluvias)\n",
        "variable_exp = df[\"tiempo_entre_lluvias\"]\n",
        "\n",
        "# Estimamos λ como el inverso de la media\n",
        "lambda_estimado = 1 / np.mean(variable_exp)\n",
        "\n",
        "# Generar histograma y superponer curva exponencial\n",
        "plt.figure(figsize=(10, 5))\n",
        "sns.histplot(variable_exp, kde=False, bins=20, color=\"lightcoral\", stat=\"density\", label=\"Datos reales\")\n",
        "x_exp = np.linspace(0, max(variable_exp), 100)\n",
        "plt.plot(x_exp, stats.expon.pdf(x_exp, scale=1/lambda_estimado), \"g-\", label=\"Ajuste Exponencial\")\n",
        "plt.xlabel(\"Tiempo entre lluvias (días)\")\n",
        "plt.ylabel(\"Densidad\")\n",
        "plt.title(\"Ajuste de Distribución Exponencial\")\n",
        "plt.legend()\n",
        "plt.grid()\n",
        "plt.show()\n",
        "\n",
        "print(f\"Valor estimado de λ: {lambda_estimado:.4f}\")"
      ],
      "metadata": {
        "id": "gMqvrKDS3rRT"
      },
      "execution_count": null,
      "outputs": []
    },
    {
      "cell_type": "markdown",
      "source": [
        "# Ejercicio 3: Distribución Chi-Cuadrada\n",
        "La distribución chi-cuadrada se utiliza para analizar la relación entre variables categóricas y determinar si existe **una asociación estadísticamente significativa** entre ellas.\n",
        "\n",
        "Ejemplo de análisis en Durango:\n",
        "- **Sector económico vs. Tamaño de empresa** → ¿Las grandes empresas se concentran en ciertos sectores?\n",
        "- **Nivel educativo vs. Nivel de ingresos** → ¿Existe relación entre la educación y el salario promedio?\n",
        "\n",
        "*Puede ayudar a analizar la relación entre sectores económicos y el tamaño de empresas, útil para políticas de desarrollo.*\n",
        "\n",
        "## Objetivo\n",
        "Evaluar si dos variables categóricas están relacionadas mediante una **prueba de independencia chi-cuadrada.**"
      ],
      "metadata": {
        "id": "BFqYFiro3yh9"
      }
    },
    {
      "cell_type": "code",
      "source": [
        "# --- EJERCICIO 3: DISTRIBUCIÓN CHI-CUADRADA ---\n",
        "# Seleccionamos dos variables categóricas (Ejemplo: sector económico vs. tamaño de empresa)\n",
        "tabla_contingencia = pd.crosstab(df[\"sector_economico\"], df[\"tamano_empresa\"])\n",
        "\n",
        "# Prueba chi-cuadrada\n",
        "chi2_stat, p_valor, dof, expected = stats.chi2_contingency(tabla_contingencia)\n",
        "print(f\"Prueba Chi-Cuadrado: Estadístico = {chi2_stat}, p-valor = {p_valor}\")\n",
        "\n",
        "# Visualización de frecuencias observadas y esperadas\n",
        "plt.figure(figsize=(12, 5))\n",
        "sns.heatmap(tabla_contingencia, annot=True, fmt=\"d\", cmap=\"Blues\", cbar=False)\n",
        "plt.title(\"Frecuencias Observadas\")\n",
        "plt.show()\n",
        "\n",
        "plt.figure(figsize=(12, 5))\n",
        "sns.heatmap(pd.DataFrame(expected, index=tabla_contingencia.index, columns=tabla_contingencia.columns), annot=True, fmt=\".1f\", cmap=\"Oranges\", cbar=False)\n",
        "plt.title(\"Frecuencias Esperadas\")\n",
        "plt.show()\n",
        "\n",
        "# Interpretación del p-valor\n",
        "if p_valor > 0.05:\n",
        "    print(\"No hay evidencia suficiente para afirmar que las variables están relacionadas (No se rechaza H0).\")\n",
        "else:\n",
        "    print(\"Existe una relación significativa entre las variables (Se rechaza H0).\")"
      ],
      "metadata": {
        "id": "Gbn1OE5x3v_z"
      },
      "execution_count": null,
      "outputs": []
    },
    {
      "cell_type": "markdown",
      "source": [
        "### Ejemplo de Aplicación:\n",
        "Si encontramos que el **sector económico y el tamaño de la empresa están relacionados**, esto podría ayudar a **diseñar políticas económicas** para fomentar el crecimiento de ciertos sectores."
      ],
      "metadata": {
        "id": "6AD-gIyu6eF-"
      }
    }
  ]
}