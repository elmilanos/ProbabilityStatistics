{
  "nbformat": 4,
  "nbformat_minor": 0,
  "metadata": {
    "colab": {
      "provenance": [],
      "authorship_tag": "ABX9TyMCQS0szbufYF6GYWcFBrLK",
      "include_colab_link": true
    },
    "kernelspec": {
      "name": "python3",
      "display_name": "Python 3"
    },
    "language_info": {
      "name": "python"
    }
  },
  "cells": [
    {
      "cell_type": "markdown",
      "metadata": {
        "id": "view-in-github",
        "colab_type": "text"
      },
      "source": [
        "<a href=\"https://colab.research.google.com/github/elmilanos/ProbabilityStatistics/blob/main/Pr%C3%A1ctica_M%C3%B3dulo_12_An%C3%A1lisis_de_Regresi%C3%B3n_M%C3%BAltiple.ipynb\" target=\"_parent\"><img src=\"https://colab.research.google.com/assets/colab-badge.svg\" alt=\"Open In Colab\"/></a>"
      ]
    },
    {
      "cell_type": "markdown",
      "source": [
        "## 1. Datos de la Practica"
      ],
      "metadata": {
        "id": "hsO2hqaMdRv6"
      }
    },
    {
      "cell_type": "code",
      "execution_count": 5,
      "metadata": {
        "id": "b61qPgJQbSwA"
      },
      "outputs": [],
      "source": [
        "import numpy as np\n",
        "\n",
        "# Variables independientes: tamaño (m²), habitaciones\n",
        "X = np.array([\n",
        "    [100, 3],\n",
        "    [120, 4],\n",
        "    [90,  2],\n",
        "    [150, 5],\n",
        "    [110, 3]\n",
        "])\n",
        "\n",
        "# Variable dependiente: precio (en miles de $)\n",
        "y = np.array([300, 350, 280, 400, 320])"
      ]
    },
    {
      "cell_type": "markdown",
      "source": [
        "## 2. Calculo manual con algebra matricial"
      ],
      "metadata": {
        "id": "mspj-H1idX2z"
      }
    },
    {
      "cell_type": "markdown",
      "source": [
        "Vamos a calcular los coeficientes usando la fórmula:\n",
        "\n",
        "β = (*XᵀX*)⁻¹*X*ᵀᵧ\n",
        "\n",
        "Agregamos una columna de unos a *X* para representar el intercepto (β₀):"
      ],
      "metadata": {
        "id": "Iukw9M4bbcJR"
      }
    },
    {
      "cell_type": "code",
      "source": [
        "# Agregar columna de 1s para el intercepto\n",
        "X_b = np.c_[np.ones((X.shape[0], 1)), X]\n",
        "\n",
        "# Cálculo matricial\n",
        "XTX_inv = np.linalg.inv(X_b.T @ X_b)\n",
        "beta = XTX_inv @ X_b.T @ y\n",
        "beta"
      ],
      "metadata": {
        "colab": {
          "base_uri": "https://localhost:8080/"
        },
        "id": "yD58vZg2dIl5",
        "outputId": "2e3db9bd-3ea1-4c53-aadf-d510e829b592"
      },
      "execution_count": 2,
      "outputs": [
        {
          "output_type": "execute_result",
          "data": {
            "text/plain": [
              "array([120.96774194,   1.51612903,  10.64516129])"
            ]
          },
          "metadata": {},
          "execution_count": 2
        }
      ]
    },
    {
      "cell_type": "markdown",
      "source": [
        "## 3. Implementación con **scikit-learn**"
      ],
      "metadata": {
        "id": "2gOabFI7d2lb"
      }
    },
    {
      "cell_type": "code",
      "source": [
        "from sklearn.linear_model import LinearRegression\n",
        "from sklearn.metrics import mean_squared_error, r2_score\n",
        "\n",
        "# Modelo\n",
        "modelo = LinearRegression()\n",
        "modelo.fit(X, y)\n",
        "\n",
        "# Coeficientes\n",
        "intercepto = modelo.intercept_\n",
        "coeficientes = modelo.coef_\n",
        "\n",
        "# Predicciones\n",
        "y_pred = modelo.predict(X)\n",
        "\n",
        "# Evaluación\n",
        "r2 = r2_score(y, y_pred)\n",
        "mse = mean_squared_error(y, y_pred)\n",
        "\n",
        "(intercepto, coeficientes), r2, mse\n"
      ],
      "metadata": {
        "colab": {
          "base_uri": "https://localhost:8080/"
        },
        "id": "pAxdHf_Nd79c",
        "outputId": "148cb43d-5386-4e4a-a7b3-377c436ab95f"
      },
      "execution_count": 6,
      "outputs": [
        {
          "output_type": "execute_result",
          "data": {
            "text/plain": [
              "((np.float64(120.96774193548384), array([ 1.51612903, 10.64516129])),\n",
              " 0.9948680351906158,\n",
              " 9.0322580645161)"
            ]
          },
          "metadata": {},
          "execution_count": 6
        }
      ]
    }
  ]
}