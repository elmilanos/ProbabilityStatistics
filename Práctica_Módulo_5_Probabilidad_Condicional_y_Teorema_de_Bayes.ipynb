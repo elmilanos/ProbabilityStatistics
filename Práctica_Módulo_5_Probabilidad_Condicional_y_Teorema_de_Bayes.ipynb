{
  "nbformat": 4,
  "nbformat_minor": 0,
  "metadata": {
    "colab": {
      "provenance": [],
      "authorship_tag": "ABX9TyMBdNn+JX9uwE6XJo1h4vDU",
      "include_colab_link": true
    },
    "kernelspec": {
      "name": "python3",
      "display_name": "Python 3"
    },
    "language_info": {
      "name": "python"
    }
  },
  "cells": [
    {
      "cell_type": "markdown",
      "metadata": {
        "id": "view-in-github",
        "colab_type": "text"
      },
      "source": [
        "<a href=\"https://colab.research.google.com/github/elmilanos/ProbabilityStatistics/blob/main/Pr%C3%A1ctica_M%C3%B3dulo_5_Probabilidad_Condicional_y_Teorema_de_Bayes.ipynb\" target=\"_parent\"><img src=\"https://colab.research.google.com/assets/colab-badge.svg\" alt=\"Open In Colab\"/></a>"
      ]
    },
    {
      "cell_type": "markdown",
      "source": [
        "# Aplicacion del Teorema de Bayes\n",
        "\n",
        "El Teorema de Bayes se usa para actualizar nuestras creencias basadas en evidencia.\n",
        "Aquí, permite calcular la probabilidad de que una persona en Durango tenga la enfermedad respiratoria **dado que tiene tos**.\n",
        "\n",
        "Este enfoque es útil en medicina para evaluar síntomas y enfermedades antes de hacer un diagnóstico definitivo."
      ],
      "metadata": {
        "id": "o0kapZbsApiN"
      }
    },
    {
      "cell_type": "code",
      "execution_count": 1,
      "metadata": {
        "id": "2MdYZUvYbp_A",
        "outputId": "9369590e-2694-4b94-d381-2286c0b404a3",
        "colab": {
          "base_uri": "https://localhost:8080/"
        }
      },
      "outputs": [
        {
          "output_type": "stream",
          "name": "stdout",
          "text": [
            "RESULTADOS:\n",
            "Probabilidad de que una persona con tos tenga la enfermedad: 0.3077 (30.77%)\n"
          ]
        }
      ],
      "source": [
        "# Importamos librerías necesarias\n",
        "def teorema_de_bayes():\n",
        "\n",
        "    # Calcula la probabilidad de que un paciente con tos tenga la enfermedad respiratoria en Durango\n",
        "    # usando el Teorema de Bayes.\n",
        "\n",
        "\n",
        "    # Probabilidades dadas en el problema\n",
        "    P_A = 0.10  # Probabilidad de tener la enfermedad\n",
        "    P_B_dado_A = 0.80  # Probabilidad de tener tos si se tiene la enfermedad\n",
        "    P_B_dado_no_A = 0.20  # Probabilidad de tener tos si NO se tiene la enfermedad\n",
        "    P_no_A = 1 - P_A  # Probabilidad de NO tener la enfermedad\n",
        "\n",
        "    # Calcular la probabilidad total de tos (P(B))\n",
        "    P_B = (P_B_dado_A * P_A) + (P_B_dado_no_A * P_no_A)\n",
        "\n",
        "    # Aplicar el Teorema de Bayes para obtener P(A|B) (probabilidad de tener la enfermedad dado que tiene tos)\n",
        "    P_A_dado_B = (P_B_dado_A * P_A) / P_B\n",
        "\n",
        "    # Imprimir resultados\n",
        "    print(\"RESULTADOS:\")\n",
        "    print(f\"Probabilidad de que una persona con tos tenga la enfermedad: {P_A_dado_B:.4f} ({P_A_dado_B * 100:.2f}%)\")\n",
        "\n",
        "# Llamamos a la función\n",
        "teorema_de_bayes()\n"
      ]
    },
    {
      "cell_type": "markdown",
      "source": [
        "# Aplicacion en Durango\n",
        "Este análisis es clave para **tomar mejores decisiones en salud pública en Durango**, ya que:\n",
        "\n",
        "- Permite **identificar qué tan confiable es la tos como indicador de la enfermedad.**\n",
        "- Ayuda a **optimizar recursos**, evitando pruebas médicas innecesarias en pacientes de bajo riesgo.\n",
        "- Puede ser usado en **políticas de salud**, como campañas para detectar otras enfermedades respiratorias."
      ],
      "metadata": {
        "id": "lri5FnltAOdB"
      }
    },
    {
      "cell_type": "markdown",
      "source": [
        "## Resultados & Conclusiones\n",
        "El resultado nos dice que **aproximadamente el 30.77% de los pacientes con tos tienen la enfermedad respiratoria**.\n",
        "Esto significa que, aunque la tos es un síntoma común, en la mayoría de los casos no implica que el paciente tenga la enfermedad respiratoria grave.\n",
        "\n",
        "## Conclusión:\n",
        "\n",
        "- Es importante **realizar más pruebas** antes de diagnosticar una enfermedad solo con base en la tos.\n",
        "\n",
        "- Este análisis ayuda a **tomar decisiones en salud pública**, como mejorar el acceso a pruebas médicas."
      ],
      "metadata": {
        "id": "LLubyx5KCC0j"
      }
    }
  ]
}