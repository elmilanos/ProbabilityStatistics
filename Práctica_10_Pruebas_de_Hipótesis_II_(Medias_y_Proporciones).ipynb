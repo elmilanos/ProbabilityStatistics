{
  "nbformat": 4,
  "nbformat_minor": 0,
  "metadata": {
    "colab": {
      "provenance": [],
      "toc_visible": true,
      "authorship_tag": "ABX9TyM++x4NzF3cpArOaUdbxUk7",
      "include_colab_link": true
    },
    "kernelspec": {
      "name": "python3",
      "display_name": "Python 3"
    },
    "language_info": {
      "name": "python"
    }
  },
  "cells": [
    {
      "cell_type": "markdown",
      "metadata": {
        "id": "view-in-github",
        "colab_type": "text"
      },
      "source": [
        "<a href=\"https://colab.research.google.com/github/elmilanos/ProbabilityStatistics/blob/main/Pr%C3%A1ctica_10_Pruebas_de_Hip%C3%B3tesis_II_(Medias_y_Proporciones).ipynb\" target=\"_parent\"><img src=\"https://colab.research.google.com/assets/colab-badge.svg\" alt=\"Open In Colab\"/></a>"
      ]
    },
    {
      "cell_type": "code",
      "execution_count": 2,
      "metadata": {
        "colab": {
          "base_uri": "https://localhost:8080/"
        },
        "id": "d54VJQjx5oWZ",
        "outputId": "cd72f97e-10b4-4f69-bb39-6ce5b1dfe36e"
      },
      "outputs": [
        {
          "output_type": "execute_result",
          "data": {
            "text/plain": [
              "['Calidad_Productos', 'Ventas', 'Tiempos_Entrega', 'Satisfaccion_Clientes']"
            ]
          },
          "metadata": {},
          "execution_count": 2
        }
      ],
      "source": [
        "import pandas as pd\n",
        "\n",
        "# Cargar el archivo Excel\n",
        "excel_path = \"/Practica_Hipotesis (2a parte).xlsx\"\n",
        "excel_file = pd.ExcelFile(excel_path)\n",
        "\n",
        "# Mostrar nombres de las hojas\n",
        "excel_file.sheet_names\n"
      ]
    },
    {
      "cell_type": "code",
      "source": [
        "# Cargar la hoja Calidad_Productos\n",
        "df_calidad = excel_file.parse('Calidad_Productos')\n",
        "df_calidad.head()\n"
      ],
      "metadata": {
        "colab": {
          "base_uri": "https://localhost:8080/",
          "height": 206
        },
        "id": "P6Kxchqj6M7r",
        "outputId": "4afe06cd-f0e4-40a5-cd1b-41189a26b9db"
      },
      "execution_count": 3,
      "outputs": [
        {
          "output_type": "execute_result",
          "data": {
            "text/plain": [
              "      Lote_A     Lote_B\n",
              "0  79.967142  61.015551\n",
              "1  73.617357  72.952256\n",
              "2  81.476885  73.887426\n",
              "3  90.230299  68.372673\n",
              "4  72.658466  76.064571"
            ],
            "text/html": [
              "\n",
              "  <div id=\"df-8a6ab81a-99a8-4b53-be76-94fbeb126e8d\" class=\"colab-df-container\">\n",
              "    <div>\n",
              "<style scoped>\n",
              "    .dataframe tbody tr th:only-of-type {\n",
              "        vertical-align: middle;\n",
              "    }\n",
              "\n",
              "    .dataframe tbody tr th {\n",
              "        vertical-align: top;\n",
              "    }\n",
              "\n",
              "    .dataframe thead th {\n",
              "        text-align: right;\n",
              "    }\n",
              "</style>\n",
              "<table border=\"1\" class=\"dataframe\">\n",
              "  <thead>\n",
              "    <tr style=\"text-align: right;\">\n",
              "      <th></th>\n",
              "      <th>Lote_A</th>\n",
              "      <th>Lote_B</th>\n",
              "    </tr>\n",
              "  </thead>\n",
              "  <tbody>\n",
              "    <tr>\n",
              "      <th>0</th>\n",
              "      <td>79.967142</td>\n",
              "      <td>61.015551</td>\n",
              "    </tr>\n",
              "    <tr>\n",
              "      <th>1</th>\n",
              "      <td>73.617357</td>\n",
              "      <td>72.952256</td>\n",
              "    </tr>\n",
              "    <tr>\n",
              "      <th>2</th>\n",
              "      <td>81.476885</td>\n",
              "      <td>73.887426</td>\n",
              "    </tr>\n",
              "    <tr>\n",
              "      <th>3</th>\n",
              "      <td>90.230299</td>\n",
              "      <td>68.372673</td>\n",
              "    </tr>\n",
              "    <tr>\n",
              "      <th>4</th>\n",
              "      <td>72.658466</td>\n",
              "      <td>76.064571</td>\n",
              "    </tr>\n",
              "  </tbody>\n",
              "</table>\n",
              "</div>\n",
              "    <div class=\"colab-df-buttons\">\n",
              "\n",
              "  <div class=\"colab-df-container\">\n",
              "    <button class=\"colab-df-convert\" onclick=\"convertToInteractive('df-8a6ab81a-99a8-4b53-be76-94fbeb126e8d')\"\n",
              "            title=\"Convert this dataframe to an interactive table.\"\n",
              "            style=\"display:none;\">\n",
              "\n",
              "  <svg xmlns=\"http://www.w3.org/2000/svg\" height=\"24px\" viewBox=\"0 -960 960 960\">\n",
              "    <path d=\"M120-120v-720h720v720H120Zm60-500h600v-160H180v160Zm220 220h160v-160H400v160Zm0 220h160v-160H400v160ZM180-400h160v-160H180v160Zm440 0h160v-160H620v160ZM180-180h160v-160H180v160Zm440 0h160v-160H620v160Z\"/>\n",
              "  </svg>\n",
              "    </button>\n",
              "\n",
              "  <style>\n",
              "    .colab-df-container {\n",
              "      display:flex;\n",
              "      gap: 12px;\n",
              "    }\n",
              "\n",
              "    .colab-df-convert {\n",
              "      background-color: #E8F0FE;\n",
              "      border: none;\n",
              "      border-radius: 50%;\n",
              "      cursor: pointer;\n",
              "      display: none;\n",
              "      fill: #1967D2;\n",
              "      height: 32px;\n",
              "      padding: 0 0 0 0;\n",
              "      width: 32px;\n",
              "    }\n",
              "\n",
              "    .colab-df-convert:hover {\n",
              "      background-color: #E2EBFA;\n",
              "      box-shadow: 0px 1px 2px rgba(60, 64, 67, 0.3), 0px 1px 3px 1px rgba(60, 64, 67, 0.15);\n",
              "      fill: #174EA6;\n",
              "    }\n",
              "\n",
              "    .colab-df-buttons div {\n",
              "      margin-bottom: 4px;\n",
              "    }\n",
              "\n",
              "    [theme=dark] .colab-df-convert {\n",
              "      background-color: #3B4455;\n",
              "      fill: #D2E3FC;\n",
              "    }\n",
              "\n",
              "    [theme=dark] .colab-df-convert:hover {\n",
              "      background-color: #434B5C;\n",
              "      box-shadow: 0px 1px 3px 1px rgba(0, 0, 0, 0.15);\n",
              "      filter: drop-shadow(0px 1px 2px rgba(0, 0, 0, 0.3));\n",
              "      fill: #FFFFFF;\n",
              "    }\n",
              "  </style>\n",
              "\n",
              "    <script>\n",
              "      const buttonEl =\n",
              "        document.querySelector('#df-8a6ab81a-99a8-4b53-be76-94fbeb126e8d button.colab-df-convert');\n",
              "      buttonEl.style.display =\n",
              "        google.colab.kernel.accessAllowed ? 'block' : 'none';\n",
              "\n",
              "      async function convertToInteractive(key) {\n",
              "        const element = document.querySelector('#df-8a6ab81a-99a8-4b53-be76-94fbeb126e8d');\n",
              "        const dataTable =\n",
              "          await google.colab.kernel.invokeFunction('convertToInteractive',\n",
              "                                                    [key], {});\n",
              "        if (!dataTable) return;\n",
              "\n",
              "        const docLinkHtml = 'Like what you see? Visit the ' +\n",
              "          '<a target=\"_blank\" href=https://colab.research.google.com/notebooks/data_table.ipynb>data table notebook</a>'\n",
              "          + ' to learn more about interactive tables.';\n",
              "        element.innerHTML = '';\n",
              "        dataTable['output_type'] = 'display_data';\n",
              "        await google.colab.output.renderOutput(dataTable, element);\n",
              "        const docLink = document.createElement('div');\n",
              "        docLink.innerHTML = docLinkHtml;\n",
              "        element.appendChild(docLink);\n",
              "      }\n",
              "    </script>\n",
              "  </div>\n",
              "\n",
              "\n",
              "<div id=\"df-18ca8ff8-e803-403d-951c-39078b0244f0\">\n",
              "  <button class=\"colab-df-quickchart\" onclick=\"quickchart('df-18ca8ff8-e803-403d-951c-39078b0244f0')\"\n",
              "            title=\"Suggest charts\"\n",
              "            style=\"display:none;\">\n",
              "\n",
              "<svg xmlns=\"http://www.w3.org/2000/svg\" height=\"24px\"viewBox=\"0 0 24 24\"\n",
              "     width=\"24px\">\n",
              "    <g>\n",
              "        <path d=\"M19 3H5c-1.1 0-2 .9-2 2v14c0 1.1.9 2 2 2h14c1.1 0 2-.9 2-2V5c0-1.1-.9-2-2-2zM9 17H7v-7h2v7zm4 0h-2V7h2v10zm4 0h-2v-4h2v4z\"/>\n",
              "    </g>\n",
              "</svg>\n",
              "  </button>\n",
              "\n",
              "<style>\n",
              "  .colab-df-quickchart {\n",
              "      --bg-color: #E8F0FE;\n",
              "      --fill-color: #1967D2;\n",
              "      --hover-bg-color: #E2EBFA;\n",
              "      --hover-fill-color: #174EA6;\n",
              "      --disabled-fill-color: #AAA;\n",
              "      --disabled-bg-color: #DDD;\n",
              "  }\n",
              "\n",
              "  [theme=dark] .colab-df-quickchart {\n",
              "      --bg-color: #3B4455;\n",
              "      --fill-color: #D2E3FC;\n",
              "      --hover-bg-color: #434B5C;\n",
              "      --hover-fill-color: #FFFFFF;\n",
              "      --disabled-bg-color: #3B4455;\n",
              "      --disabled-fill-color: #666;\n",
              "  }\n",
              "\n",
              "  .colab-df-quickchart {\n",
              "    background-color: var(--bg-color);\n",
              "    border: none;\n",
              "    border-radius: 50%;\n",
              "    cursor: pointer;\n",
              "    display: none;\n",
              "    fill: var(--fill-color);\n",
              "    height: 32px;\n",
              "    padding: 0;\n",
              "    width: 32px;\n",
              "  }\n",
              "\n",
              "  .colab-df-quickchart:hover {\n",
              "    background-color: var(--hover-bg-color);\n",
              "    box-shadow: 0 1px 2px rgba(60, 64, 67, 0.3), 0 1px 3px 1px rgba(60, 64, 67, 0.15);\n",
              "    fill: var(--button-hover-fill-color);\n",
              "  }\n",
              "\n",
              "  .colab-df-quickchart-complete:disabled,\n",
              "  .colab-df-quickchart-complete:disabled:hover {\n",
              "    background-color: var(--disabled-bg-color);\n",
              "    fill: var(--disabled-fill-color);\n",
              "    box-shadow: none;\n",
              "  }\n",
              "\n",
              "  .colab-df-spinner {\n",
              "    border: 2px solid var(--fill-color);\n",
              "    border-color: transparent;\n",
              "    border-bottom-color: var(--fill-color);\n",
              "    animation:\n",
              "      spin 1s steps(1) infinite;\n",
              "  }\n",
              "\n",
              "  @keyframes spin {\n",
              "    0% {\n",
              "      border-color: transparent;\n",
              "      border-bottom-color: var(--fill-color);\n",
              "      border-left-color: var(--fill-color);\n",
              "    }\n",
              "    20% {\n",
              "      border-color: transparent;\n",
              "      border-left-color: var(--fill-color);\n",
              "      border-top-color: var(--fill-color);\n",
              "    }\n",
              "    30% {\n",
              "      border-color: transparent;\n",
              "      border-left-color: var(--fill-color);\n",
              "      border-top-color: var(--fill-color);\n",
              "      border-right-color: var(--fill-color);\n",
              "    }\n",
              "    40% {\n",
              "      border-color: transparent;\n",
              "      border-right-color: var(--fill-color);\n",
              "      border-top-color: var(--fill-color);\n",
              "    }\n",
              "    60% {\n",
              "      border-color: transparent;\n",
              "      border-right-color: var(--fill-color);\n",
              "    }\n",
              "    80% {\n",
              "      border-color: transparent;\n",
              "      border-right-color: var(--fill-color);\n",
              "      border-bottom-color: var(--fill-color);\n",
              "    }\n",
              "    90% {\n",
              "      border-color: transparent;\n",
              "      border-bottom-color: var(--fill-color);\n",
              "    }\n",
              "  }\n",
              "</style>\n",
              "\n",
              "  <script>\n",
              "    async function quickchart(key) {\n",
              "      const quickchartButtonEl =\n",
              "        document.querySelector('#' + key + ' button');\n",
              "      quickchartButtonEl.disabled = true;  // To prevent multiple clicks.\n",
              "      quickchartButtonEl.classList.add('colab-df-spinner');\n",
              "      try {\n",
              "        const charts = await google.colab.kernel.invokeFunction(\n",
              "            'suggestCharts', [key], {});\n",
              "      } catch (error) {\n",
              "        console.error('Error during call to suggestCharts:', error);\n",
              "      }\n",
              "      quickchartButtonEl.classList.remove('colab-df-spinner');\n",
              "      quickchartButtonEl.classList.add('colab-df-quickchart-complete');\n",
              "    }\n",
              "    (() => {\n",
              "      let quickchartButtonEl =\n",
              "        document.querySelector('#df-18ca8ff8-e803-403d-951c-39078b0244f0 button');\n",
              "      quickchartButtonEl.style.display =\n",
              "        google.colab.kernel.accessAllowed ? 'block' : 'none';\n",
              "    })();\n",
              "  </script>\n",
              "</div>\n",
              "\n",
              "    </div>\n",
              "  </div>\n"
            ],
            "application/vnd.google.colaboratory.intrinsic+json": {
              "type": "dataframe",
              "variable_name": "df_calidad",
              "summary": "{\n  \"name\": \"df_calidad\",\n  \"rows\": 100,\n  \"fields\": [\n    {\n      \"column\": \"Lote_A\",\n      \"properties\": {\n        \"dtype\": \"number\",\n        \"std\": 9.081684280078006,\n        \"min\": 48.80254895910255,\n        \"max\": 93.52278184508938,\n        \"num_unique_values\": 100,\n        \"samples\": [\n          69.81729781726352,\n          81.11676288840867,\n          78.61395605508415\n        ],\n        \"semantic_type\": \"\",\n        \"description\": \"\"\n      }\n    },\n    {\n      \"column\": \"Lote_B\",\n      \"properties\": {\n        \"dtype\": \"number\",\n        \"std\": 11.444027594197246,\n        \"min\": 54.9747454164115,\n        \"max\": 110.6420299990754,\n        \"num_unique_values\": 100,\n        \"samples\": [\n          83.78966898291823,\n          80.78704436593205,\n          67.32582684449372\n        ],\n        \"semantic_type\": \"\",\n        \"description\": \"\"\n      }\n    }\n  ]\n}"
            }
          },
          "metadata": {},
          "execution_count": 3
        }
      ]
    },
    {
      "cell_type": "markdown",
      "source": [
        "# Parte 1: Prueba T para Medias - Calidad de Productos\n",
        "## Hipótesis:\n",
        "- **H₀:** Las medias de calidad de los lotes A y B son iguales.\n",
        "\n",
        "- **H₁:** Las medias son diferentes."
      ],
      "metadata": {
        "id": "awQAf9WD6SB5"
      }
    },
    {
      "cell_type": "code",
      "source": [
        "from scipy.stats import ttest_ind\n",
        "\n",
        "# Extraer las calificaciones de calidad\n",
        "lote_a = df_calidad['Lote_A']\n",
        "lote_b = df_calidad['Lote_B']\n",
        "\n",
        "# Prueba T para muestras independientes (varianzas no asumidas iguales)\n",
        "t_stat, p_value = ttest_ind(lote_a, lote_b, equal_var=False)\n",
        "\n",
        "# Calcular medias\n",
        "media_a = lote_a.mean()\n",
        "media_b = lote_b.mean()\n",
        "\n",
        "# media_a, media_b, t_stat, p_value\n",
        "print(f\"Media Lote A: {media_a:.2f}\")\n",
        "print(f\"Media Lote B: {media_b:.2f}\")\n",
        "print(f\"Estadística t: {t_stat:.2f}\")\n",
        "print(f\"Valor p: {p_value:.4f}\")"
      ],
      "metadata": {
        "colab": {
          "base_uri": "https://localhost:8080/"
        },
        "id": "sQClALxH6efI",
        "outputId": "1cca568d-8bff-4d8e-e460-62513e2f9d63"
      },
      "execution_count": 5,
      "outputs": [
        {
          "output_type": "stream",
          "name": "stdout",
          "text": [
            "Media Lote A: 73.96\n",
            "Media Lote B: 78.27\n",
            "Estadística t: -2.95\n",
            "Valor p: 0.0036\n"
          ]
        }
      ]
    },
    {
      "cell_type": "markdown",
      "source": [
        "## Conclusión:\n",
        "Dado que el valor p es **menor que 0.05, rechazamos la hipótesis nula (H₀).\n",
        "Existe una diferencia significativa en la calidad promedio entre los Lotes A y B.**"
      ],
      "metadata": {
        "id": "S6azouxo61Bg"
      }
    },
    {
      "cell_type": "code",
      "source": [
        "import matplotlib.pyplot as plt\n",
        "\n",
        "# Gráfico de barras de medias\n",
        "plt.figure(figsize=(6, 5))\n",
        "plt.bar(['Lote A', 'Lote B'], [media_a, media_b], color=['orange', 'green'])\n",
        "plt.title('Comparación de Calidad Promedio entre Lotes')\n",
        "plt.ylabel('Calidad Promedio')\n",
        "plt.ylim(0, max(media_a, media_b) + 10)\n",
        "\n",
        "# Etiquetas con los valores\n",
        "for i, v in enumerate([media_a, media_b]):\n",
        "    plt.text(i, v + 0.5, f'{v:.2f}', ha='center', fontweight='bold')\n",
        "\n",
        "plt.grid(axis='y', linestyle='--', alpha=0.6)\n",
        "plt.tight_layout()\n",
        "plt.show()"
      ],
      "metadata": {
        "colab": {
          "base_uri": "https://localhost:8080/",
          "height": 507
        },
        "id": "Ydshrn-n65Qm",
        "outputId": "c6cb28ed-a6dc-417e-a7ab-adfb3941d5c0"
      },
      "execution_count": 6,
      "outputs": [
        {
          "output_type": "display_data",
          "data": {
            "text/plain": [
              "<Figure size 600x500 with 1 Axes>"
            ],
            "image/png": "[encoded data removed]"
          },
          "metadata": {}
        }
      ]
    },
    {
      "cell_type": "markdown",
      "source": [
        " Gráfica comparativa: se observa claramente que **Lote B tiene una mayor calificación promedio de calidad** que Lote A.\n",
        "\n",
        " ---"
      ],
      "metadata": {
        "id": "YYlmVnlZ68lA"
      }
    },
    {
      "cell_type": "markdown",
      "source": [
        "#Parte 2: Prueba T para Medias - Ventas de Productos A y B\n",
        "\n",
        "##Hipótesis:\n",
        "- **H₀:** Las medias de ventas de los productos A y B son iguales.\n",
        "- **H₁:** Las medias de ventas de los productos A y B son diferentes."
      ],
      "metadata": {
        "id": "s1q6dJIA7E0A"
      }
    },
    {
      "cell_type": "code",
      "source": [
        "# Cargar datos de la hoja Ventas\n",
        "df_ventas = excel_file.parse('Ventas')\n",
        "df_ventas.head()"
      ],
      "metadata": {
        "colab": {
          "base_uri": "https://localhost:8080/",
          "height": 206
        },
        "id": "0WwR454H7PZx",
        "outputId": "449236f3-4e6d-4e3b-d380-8a759908819e"
      },
      "execution_count": 7,
      "outputs": [
        {
          "output_type": "execute_result",
          "data": {
            "text/plain": [
              "       Mes  Producto_A  Producto_B\n",
              "0    Enero         885         837\n",
              "1  Febrero         973         707\n",
              "2    Marzo         772         824\n",
              "3    Abril         603         805\n",
              "4     Mayo         916         335"
            ],
            "text/html": [
              "\n",
              "  <div id=\"df-66c2a6b3-8ed7-43dc-901e-4161d75309f4\" class=\"colab-df-container\">\n",
              "    <div>\n",
              "<style scoped>\n",
              "    .dataframe tbody tr th:only-of-type {\n",
              "        vertical-align: middle;\n",
              "    }\n",
              "\n",
              "    .dataframe tbody tr th {\n",
              "        vertical-align: top;\n",
              "    }\n",
              "\n",
              "    .dataframe thead th {\n",
              "        text-align: right;\n",
              "    }\n",
              "</style>\n",
              "<table border=\"1\" class=\"dataframe\">\n",
              "  <thead>\n",
              "    <tr style=\"text-align: right;\">\n",
              "      <th></th>\n",
              "      <th>Mes</th>\n",
              "      <th>Producto_A</th>\n",
              "      <th>Producto_B</th>\n",
              "    </tr>\n",
              "  </thead>\n",
              "  <tbody>\n",
              "    <tr>\n",
              "      <th>0</th>\n",
              "      <td>Enero</td>\n",
              "      <td>885</td>\n",
              "      <td>837</td>\n",
              "    </tr>\n",
              "    <tr>\n",
              "      <th>1</th>\n",
              "      <td>Febrero</td>\n",
              "      <td>973</td>\n",
              "      <td>707</td>\n",
              "    </tr>\n",
              "    <tr>\n",
              "      <th>2</th>\n",
              "      <td>Marzo</td>\n",
              "      <td>772</td>\n",
              "      <td>824</td>\n",
              "    </tr>\n",
              "    <tr>\n",
              "      <th>3</th>\n",
              "      <td>Abril</td>\n",
              "      <td>603</td>\n",
              "      <td>805</td>\n",
              "    </tr>\n",
              "    <tr>\n",
              "      <th>4</th>\n",
              "      <td>Mayo</td>\n",
              "      <td>916</td>\n",
              "      <td>335</td>\n",
              "    </tr>\n",
              "  </tbody>\n",
              "</table>\n",
              "</div>\n",
              "    <div class=\"colab-df-buttons\">\n",
              "\n",
              "  <div class=\"colab-df-container\">\n",
              "    <button class=\"colab-df-convert\" onclick=\"convertToInteractive('df-66c2a6b3-8ed7-43dc-901e-4161d75309f4')\"\n",
              "            title=\"Convert this dataframe to an interactive table.\"\n",
              "            style=\"display:none;\">\n",
              "\n",
              "  <svg xmlns=\"http://www.w3.org/2000/svg\" height=\"24px\" viewBox=\"0 -960 960 960\">\n",
              "    <path d=\"M120-120v-720h720v720H120Zm60-500h600v-160H180v160Zm220 220h160v-160H400v160Zm0 220h160v-160H400v160ZM180-400h160v-160H180v160Zm440 0h160v-160H620v160ZM180-180h160v-160H180v160Zm440 0h160v-160H620v160Z\"/>\n",
              "  </svg>\n",
              "    </button>\n",
              "\n",
              "  <style>\n",
              "    .colab-df-container {\n",
              "      display:flex;\n",
              "      gap: 12px;\n",
              "    }\n",
              "\n",
              "    .colab-df-convert {\n",
              "      background-color: #E8F0FE;\n",
              "      border: none;\n",
              "      border-radius: 50%;\n",
              "      cursor: pointer;\n",
              "      display: none;\n",
              "      fill: #1967D2;\n",
              "      height: 32px;\n",
              "      padding: 0 0 0 0;\n",
              "      width: 32px;\n",
              "    }\n",
              "\n",
              "    .colab-df-convert:hover {\n",
              "      background-color: #E2EBFA;\n",
              "      box-shadow: 0px 1px 2px rgba(60, 64, 67, 0.3), 0px 1px 3px 1px rgba(60, 64, 67, 0.15);\n",
              "      fill: #174EA6;\n",
              "    }\n",
              "\n",
              "    .colab-df-buttons div {\n",
              "      margin-bottom: 4px;\n",
              "    }\n",
              "\n",
              "    [theme=dark] .colab-df-convert {\n",
              "      background-color: #3B4455;\n",
              "      fill: #D2E3FC;\n",
              "    }\n",
              "\n",
              "    [theme=dark] .colab-df-convert:hover {\n",
              "      background-color: #434B5C;\n",
              "      box-shadow: 0px 1px 3px 1px rgba(0, 0, 0, 0.15);\n",
              "      filter: drop-shadow(0px 1px 2px rgba(0, 0, 0, 0.3));\n",
              "      fill: #FFFFFF;\n",
              "    }\n",
              "  </style>\n",
              "\n",
              "    <script>\n",
              "      const buttonEl =\n",
              "        document.querySelector('#df-66c2a6b3-8ed7-43dc-901e-4161d75309f4 button.colab-df-convert');\n",
              "      buttonEl.style.display =\n",
              "        google.colab.kernel.accessAllowed ? 'block' : 'none';\n",
              "\n",
              "      async function convertToInteractive(key) {\n",
              "        const element = document.querySelector('#df-66c2a6b3-8ed7-43dc-901e-4161d75309f4');\n",
              "        const dataTable =\n",
              "          await google.colab.kernel.invokeFunction('convertToInteractive',\n",
              "                                                    [key], {});\n",
              "        if (!dataTable) return;\n",
              "\n",
              "        const docLinkHtml = 'Like what you see? Visit the ' +\n",
              "          '<a target=\"_blank\" href=https://colab.research.google.com/notebooks/data_table.ipynb>data table notebook</a>'\n",
              "          + ' to learn more about interactive tables.';\n",
              "        element.innerHTML = '';\n",
              "        dataTable['output_type'] = 'display_data';\n",
              "        await google.colab.output.renderOutput(dataTable, element);\n",
              "        const docLink = document.createElement('div');\n",
              "        docLink.innerHTML = docLinkHtml;\n",
              "        element.appendChild(docLink);\n",
              "      }\n",
              "    </script>\n",
              "  </div>\n",
              "\n",
              "\n",
              "<div id=\"df-9a3c5a7a-b580-4f57-b7ce-aa723fca3419\">\n",
              "  <button class=\"colab-df-quickchart\" onclick=\"quickchart('df-9a3c5a7a-b580-4f57-b7ce-aa723fca3419')\"\n",
              "            title=\"Suggest charts\"\n",
              "            style=\"display:none;\">\n",
              "\n",
              "<svg xmlns=\"http://www.w3.org/2000/svg\" height=\"24px\"viewBox=\"0 0 24 24\"\n",
              "     width=\"24px\">\n",
              "    <g>\n",
              "        <path d=\"M19 3H5c-1.1 0-2 .9-2 2v14c0 1.1.9 2 2 2h14c1.1 0 2-.9 2-2V5c0-1.1-.9-2-2-2zM9 17H7v-7h2v7zm4 0h-2V7h2v10zm4 0h-2v-4h2v4z\"/>\n",
              "    </g>\n",
              "</svg>\n",
              "  </button>\n",
              "\n",
              "<style>\n",
              "  .colab-df-quickchart {\n",
              "      --bg-color: #E8F0FE;\n",
              "      --fill-color: #1967D2;\n",
              "      --hover-bg-color: #E2EBFA;\n",
              "      --hover-fill-color: #174EA6;\n",
              "      --disabled-fill-color: #AAA;\n",
              "      --disabled-bg-color: #DDD;\n",
              "  }\n",
              "\n",
              "  [theme=dark] .colab-df-quickchart {\n",
              "      --bg-color: #3B4455;\n",
              "      --fill-color: #D2E3FC;\n",
              "      --hover-bg-color: #434B5C;\n",
              "      --hover-fill-color: #FFFFFF;\n",
              "      --disabled-bg-color: #3B4455;\n",
              "      --disabled-fill-color: #666;\n",
              "  }\n",
              "\n",
              "  .colab-df-quickchart {\n",
              "    background-color: var(--bg-color);\n",
              "    border: none;\n",
              "    border-radius: 50%;\n",
              "    cursor: pointer;\n",
              "    display: none;\n",
              "    fill: var(--fill-color);\n",
              "    height: 32px;\n",
              "    padding: 0;\n",
              "    width: 32px;\n",
              "  }\n",
              "\n",
              "  .colab-df-quickchart:hover {\n",
              "    background-color: var(--hover-bg-color);\n",
              "    box-shadow: 0 1px 2px rgba(60, 64, 67, 0.3), 0 1px 3px 1px rgba(60, 64, 67, 0.15);\n",
              "    fill: var(--button-hover-fill-color);\n",
              "  }\n",
              "\n",
              "  .colab-df-quickchart-complete:disabled,\n",
              "  .colab-df-quickchart-complete:disabled:hover {\n",
              "    background-color: var(--disabled-bg-color);\n",
              "    fill: var(--disabled-fill-color);\n",
              "    box-shadow: none;\n",
              "  }\n",
              "\n",
              "  .colab-df-spinner {\n",
              "    border: 2px solid var(--fill-color);\n",
              "    border-color: transparent;\n",
              "    border-bottom-color: var(--fill-color);\n",
              "    animation:\n",
              "      spin 1s steps(1) infinite;\n",
              "  }\n",
              "\n",
              "  @keyframes spin {\n",
              "    0% {\n",
              "      border-color: transparent;\n",
              "      border-bottom-color: var(--fill-color);\n",
              "      border-left-color: var(--fill-color);\n",
              "    }\n",
              "    20% {\n",
              "      border-color: transparent;\n",
              "      border-left-color: var(--fill-color);\n",
              "      border-top-color: var(--fill-color);\n",
              "    }\n",
              "    30% {\n",
              "      border-color: transparent;\n",
              "      border-left-color: var(--fill-color);\n",
              "      border-top-color: var(--fill-color);\n",
              "      border-right-color: var(--fill-color);\n",
              "    }\n",
              "    40% {\n",
              "      border-color: transparent;\n",
              "      border-right-color: var(--fill-color);\n",
              "      border-top-color: var(--fill-color);\n",
              "    }\n",
              "    60% {\n",
              "      border-color: transparent;\n",
              "      border-right-color: var(--fill-color);\n",
              "    }\n",
              "    80% {\n",
              "      border-color: transparent;\n",
              "      border-right-color: var(--fill-color);\n",
              "      border-bottom-color: var(--fill-color);\n",
              "    }\n",
              "    90% {\n",
              "      border-color: transparent;\n",
              "      border-bottom-color: var(--fill-color);\n",
              "    }\n",
              "  }\n",
              "</style>\n",
              "\n",
              "  <script>\n",
              "    async function quickchart(key) {\n",
              "      const quickchartButtonEl =\n",
              "        document.querySelector('#' + key + ' button');\n",
              "      quickchartButtonEl.disabled = true;  // To prevent multiple clicks.\n",
              "      quickchartButtonEl.classList.add('colab-df-spinner');\n",
              "      try {\n",
              "        const charts = await google.colab.kernel.invokeFunction(\n",
              "            'suggestCharts', [key], {});\n",
              "      } catch (error) {\n",
              "        console.error('Error during call to suggestCharts:', error);\n",
              "      }\n",
              "      quickchartButtonEl.classList.remove('colab-df-spinner');\n",
              "      quickchartButtonEl.classList.add('colab-df-quickchart-complete');\n",
              "    }\n",
              "    (() => {\n",
              "      let quickchartButtonEl =\n",
              "        document.querySelector('#df-9a3c5a7a-b580-4f57-b7ce-aa723fca3419 button');\n",
              "      quickchartButtonEl.style.display =\n",
              "        google.colab.kernel.accessAllowed ? 'block' : 'none';\n",
              "    })();\n",
              "  </script>\n",
              "</div>\n",
              "\n",
              "    </div>\n",
              "  </div>\n"
            ],
            "application/vnd.google.colaboratory.intrinsic+json": {
              "type": "dataframe",
              "variable_name": "df_ventas",
              "summary": "{\n  \"name\": \"df_ventas\",\n  \"rows\": 12,\n  \"fields\": [\n    {\n      \"column\": \"Mes\",\n      \"properties\": {\n        \"dtype\": \"string\",\n        \"num_unique_values\": 12,\n        \"samples\": [\n          \"Noviembre\",\n          \"Octubre\",\n          \"Enero\"\n        ],\n        \"semantic_type\": \"\",\n        \"description\": \"\"\n      }\n    },\n    {\n      \"column\": \"Producto_A\",\n      \"properties\": {\n        \"dtype\": \"number\",\n        \"std\": 145,\n        \"min\": 538,\n        \"max\": 976,\n        \"num_unique_values\": 12,\n        \"samples\": [\n          976,\n          538,\n          885\n        ],\n        \"semantic_type\": \"\",\n        \"description\": \"\"\n      }\n    },\n    {\n      \"column\": \"Producto_B\",\n      \"properties\": {\n        \"dtype\": \"number\",\n        \"std\": 202,\n        \"min\": 319,\n        \"max\": 837,\n        \"num_unique_values\": 12,\n        \"samples\": [\n          442,\n          770,\n          837\n        ],\n        \"semantic_type\": \"\",\n        \"description\": \"\"\n      }\n    }\n  ]\n}"
            }
          },
          "metadata": {},
          "execution_count": 7
        }
      ]
    },
    {
      "cell_type": "markdown",
      "source": [
        "Los datos contienen las **ventas mensuales** durante un año para los **Productos A y B**."
      ],
      "metadata": {
        "id": "KnazLNVC7T1O"
      }
    },
    {
      "cell_type": "code",
      "source": [
        "# Extraer las ventas de cada producto\n",
        "ventas_a = df_ventas['Producto_A']\n",
        "ventas_b = df_ventas['Producto_B']\n",
        "\n",
        "# Prueba T para muestras independientes\n",
        "t_stat, p_value = ttest_ind(ventas_a, ventas_b, equal_var=False)\n",
        "\n",
        "# Calcular medias\n",
        "media_a = ventas_a.mean()\n",
        "media_b = ventas_b.mean()\n",
        "\n",
        "print(f\"Media Producto A: {media_a:.2f}\")\n",
        "print(f\"Media Producto B: {media_b:.2f}\")\n",
        "print(f\"Estadística t: {t_stat:.2f}\")\n",
        "print(f\"Valor p: {p_value:.4f}\")"
      ],
      "metadata": {
        "colab": {
          "base_uri": "https://localhost:8080/"
        },
        "id": "HkjXiHn-7aC_",
        "outputId": "e3496163-0755-43e8-90d9-e3397c34fe94"
      },
      "execution_count": 8,
      "outputs": [
        {
          "output_type": "stream",
          "name": "stdout",
          "text": [
            "Media Producto A: 786.83\n",
            "Media Producto B: 630.00\n",
            "Estadística t: 2.18\n",
            "Valor p: 0.0413\n"
          ]
        }
      ]
    },
    {
      "cell_type": "markdown",
      "source": [
        "## Conclusión:\n",
        "Dado que el valor p es **menor que 0.05, rechazamos la hipótesis nula (H₀).\n",
        "Existe una diferencia significativa en las ventas promedio entre los productos A y B.**"
      ],
      "metadata": {
        "id": "-3tKkv8v7fin"
      }
    },
    {
      "cell_type": "code",
      "source": [
        "# Gráfico de barras de medias de ventas\n",
        "plt.figure(figsize=(6, 5))\n",
        "plt.bar(['Producto A', 'Producto B'], [media_a, media_b], color=['blue', 'purple'])\n",
        "plt.title('Comparación de Ventas Promedio entre Productos')\n",
        "plt.ylabel('Ventas Promedio')\n",
        "plt.ylim(0, max(media_a, media_b) + 100)\n",
        "\n",
        "# Etiquetas con valores\n",
        "for i, v in enumerate([media_a, media_b]):\n",
        "    plt.text(i, v + 10, f'{v:.2f}', ha='center', fontweight='bold')\n",
        "\n",
        "plt.grid(axis='y', linestyle='--', alpha=0.6)\n",
        "plt.tight_layout()\n",
        "plt.show()"
      ],
      "metadata": {
        "colab": {
          "base_uri": "https://localhost:8080/",
          "height": 507
        },
        "id": "IfbjEKoY7n7L",
        "outputId": "4bf254ad-2ef2-4955-f108-4ca2ff72079e"
      },
      "execution_count": 9,
      "outputs": [
        {
          "output_type": "display_data",
          "data": {
            "text/plain": [
              "<Figure size 600x500 with 1 Axes>"
            ],
            "image/png": "[encoded data removed]"
          },
          "metadata": {}
        }
      ]
    },
    {
      "cell_type": "markdown",
      "source": [
        "Gráfica de Barras: el **Producto A tiene una media de ventas superior** al Producto B, y la diferencia es estadísticamente significativa.\n",
        "\n",
        "---"
      ],
      "metadata": {
        "id": "r7sRMQ7R7tK5"
      }
    },
    {
      "cell_type": "markdown",
      "source": [
        "# Prueba T de Dos Muestras: Tiempos de Entrega (Lote A vs Lote B)\n",
        "\n",
        "En este análisis compararemos los tiempos de entrega de dos lotes (A y B) para determinar si existe una diferencia significativa entre sus medias. Se formularon las siguientes hipótesis:\n",
        "- **H₀ (Hipótesis nula):** Los tiempos de entrega de los lotes A y B tienen la misma media (no hay diferencia significativa).\n",
        "- **H₁ (Hipótesis alternativa):** Los tiempos de entrega de los lotes A y B tienen medias diferentes.\n",
        "Usaremos una prueba *t* para muestras independientes con un nivel de significancia α = 0.05. A continuación, se detallan los pasos del análisis:\n",
        "\n",
        "## 1. Carga de Datos y Estadísticas Descriptivas\n",
        "Primero, cargamos los datos de la hoja **\"Tiempos_Entrega\"** del archivo Excel y calculamos la media y la desviación estándar de los tiempos de entrega para cada lote. Esto nos dará una idea general de los datos antes de realizar la prueba de hipótesis.\n"
      ],
      "metadata": {
        "id": "FnzuYn6i9OwA"
      }
    },
    {
      "cell_type": "code",
      "source": [
        "# Cargar las librerías necesarias\n",
        "import pandas as pd\n",
        "\n",
        "# Leer los datos de la hoja 'Tiempos_Entrega' del archivo Excel\n",
        "datos = pd.read_excel('/Practica_Hipotesis (2a parte).xlsx', sheet_name='Tiempos_Entrega')\n",
        "\n",
        "# Calcular media y desviación estándar para cada lote\n",
        "media_A = datos['Lote_A'].mean()\n",
        "std_A   = datos['Lote_A'].std()\n",
        "media_B = datos['Lote_B'].mean()\n",
        "std_B   = datos['Lote_B'].std()\n",
        "\n",
        "print(f\"Media Lote A: {media_A:.3f}\")\n",
        "print(f\"Desv. Estándar Lote A: {std_A:.3f}\")\n",
        "print(f\"Media Lote B: {media_B:.3f}\")\n",
        "print(f\"Desv. Estándar Lote B: {std_B:.3f}\")"
      ],
      "metadata": {
        "colab": {
          "base_uri": "https://localhost:8080/"
        },
        "id": "a7vuE4mJ9zwU",
        "outputId": "46e20446-e042-4267-b69b-c4043530b232"
      },
      "execution_count": 11,
      "outputs": [
        {
          "output_type": "stream",
          "name": "stdout",
          "text": [
            "Media Lote A: 5.153\n",
            "Desv. Estándar Lote A: 1.126\n",
            "Media Lote B: 4.298\n",
            "Desv. Estándar Lote B: 1.414\n"
          ]
        }
      ]
    },
    {
      "cell_type": "markdown",
      "source": [
        "Como se observa, el **Lote A** tiene un tiempo de entrega promedio ligeramente mayor que el Lote B. También la dispersión (desviación estándar) en los tiempos del Lote B es algo mayor que la del Lote A. Estos valores sirven como contexto antes de contrastar formalmente las medias mediante la prueba *t*."
      ],
      "metadata": {
        "id": "dJeDZJD1-W6l"
      }
    },
    {
      "cell_type": "markdown",
      "source": [
        "## 2. Prueba *t* de Muestras Independientes (Igualdad de Medias)\n",
        "A continuación, aplicamos la prueba t para dos muestras independientes con los datos de los lotes A y B. Esta prueba evalúa si la diferencia entre las medias muestrales es estadísticamente significativa. Usaremos la función ttest_ind de SciPy para obtener el estadístico *t* y el valor *p*. Suponemos que las varianzas de las dos muestras pueden ser tratadas como iguales (supuesto tradicional de la t de Student para muestras independientes)."
      ],
      "metadata": {
        "id": "uOIt8G8B-y-c"
      }
    },
    {
      "cell_type": "code",
      "source": [
        "from scipy import stats\n",
        "\n",
        "# Realizar la prueba t de muestras independientes\n",
        "t_stat, p_val = stats.ttest_ind(datos['Lote_A'], datos['Lote_B'], equal_var=True)\n",
        "\n",
        "print(f\"Estadístico t: {t_stat:.4f}\")\n",
        "print(f\"Valor p: {p_val:.4f}\")"
      ],
      "metadata": {
        "colab": {
          "base_uri": "https://localhost:8080/"
        },
        "id": "U5jLGy8d_ADk",
        "outputId": "d8acb055-6ac1-404d-9b92-a541bc90273f"
      },
      "execution_count": 13,
      "outputs": [
        {
          "output_type": "stream",
          "name": "stdout",
          "text": [
            "Estadístico t: 3.3445\n",
            "Valor p: 0.0012\n"
          ]
        }
      ]
    },
    {
      "cell_type": "markdown",
      "source": [
        "## 3. Valor *p* y Decision Estadistica\n",
        "El valor *p* obtenido (~0.0012) es la probabilidad de observar una diferencia de medias tan grande como la presente (o mayor) asumiendo que en realidad **no hay diferencia** entre las medias de los lotes (H₀ verdadera).\n",
        "Con un nivel de significancia α = 0.05, comparamos el valor *p* con α:\n",
        "- α = 0.05\n",
        "- p ≈ 0.0012\n",
        "\n",
        "Dado que *p* **< 0.05**, el valor *p* es **mucho menor** que el nivel de significancia. Esto indica que la diferencia observada en las medias **no es debida al azar**. En consecuencia, se **rechaza la hipótesis nula (H₀)**. Existe evidencia estadística suficiente para afirmar que la media de los tiempos de entrega del Lote A es **diferente** a la del Lote B.\n",
        "\n",
        "En otras palabras, los tiempos de entrega promedio de los lotes A y B **no son iguales** con un 95% de confianza. El lote A tiene un tiempo medio de entrega mayor que el lote B, y esta diferencia es estadísticamente significativa bajo las condiciones de la prueba realizada."
      ],
      "metadata": {
        "id": "-aYMowgGAKGN"
      }
    },
    {
      "cell_type": "markdown",
      "source": [
        "# 4. Visualización: Gráfica Boxplot de Tiempos de Entrega por Lote\n",
        "Para comprender mejor la distribución de los datos de cada lote, se genera un diagrama de caja *(boxplot)*. Esta visualización resume los cuantiles (mediana, cuartiles) y posibles valores atípicos de los tiempos de entrega para los lotes A y B."
      ],
      "metadata": {
        "id": "D7RtTBnLB7Ml"
      }
    },
    {
      "cell_type": "code",
      "source": [
        "import seaborn as sns\n",
        "import matplotlib.pyplot as plt\n",
        "\n",
        "# Graficar un boxplot comparando los tiempos de entrega de Lote A y Lote B\n",
        "plt.figure(figsize=(6,4))\n",
        "sns.boxplot(data=datos[['Lote_A', 'Lote_B']])\n",
        "plt.ylabel('Tiempo de Entrega')\n",
        "plt.xlabel('Lote')\n",
        "plt.title('Distribución de Tiempos de Entrega por Lote')\n",
        "plt.show()"
      ],
      "metadata": {
        "colab": {
          "base_uri": "https://localhost:8080/",
          "height": 411
        },
        "id": "Yc8S6NILCE0m",
        "outputId": "ce7e9fe6-f428-4636-c04e-06647ee11071"
      },
      "execution_count": 14,
      "outputs": [
        {
          "output_type": "display_data",
          "data": {
            "text/plain": [
              "<Figure size 600x400 with 1 Axes>"
            ],
            "image/png": "[encoded data removed]"
          },
          "metadata": {}
        }
      ]
    },
    {
      "cell_type": "markdown",
      "source": [
        "La gráfica de caja confirma las estadísticas calculadas: la mediana del **Lote A** está por encima de la mediana del **Lote B**, lo que sugiere nuevamente que el Lote A tiene mayores tiempos de entrega en general. También se aprecia que la caja del Lote B es más larga, indicando mayor variabilidad en sus tiempos. No se observan valores atípicos extremos en ninguno de los lotes, y ambos se distribuyen dentro de rangos razonables."
      ],
      "metadata": {
        "id": "gpB_beyXCOgo"
      }
    },
    {
      "cell_type": "markdown",
      "source": [
        "# 5. Conclusión de la Prueba de Hipótesis\n",
        "En conclusión, con base en la prueba t de muestras independientes realizada, **se rechaza la hipótesis nula H₀** a un nivel de significancia de 0.05. Esto significa que **existe una diferencia significativa** entre los tiempos de entrega promedio de los lotes A y B. Específicamente, el Lote A muestra un tiempo de entrega promedio mayor que el Lote B.\n",
        "\n",
        "En términos prácticos, los resultados sugieren que los dos lotes no tienen el mismo desempeño en tiempos de entrega. Si este análisis corresponde a un contexto de calidad o logística, habría que investigar las causas por las cuales el Lote A tarda más en entregarse que el Lote B, ya que la diferencia observada es estadísticamente significativa y poco probable que se deba al azar."
      ],
      "metadata": {
        "id": "4quZUtIOCcdK"
      }
    }
  ]
}